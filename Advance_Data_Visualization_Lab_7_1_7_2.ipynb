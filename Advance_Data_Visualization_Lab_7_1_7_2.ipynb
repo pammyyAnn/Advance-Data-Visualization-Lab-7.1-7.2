{
  "nbformat": 4,
  "nbformat_minor": 0,
  "metadata": {
    "colab": {
      "provenance": [],
      "authorship_tag": "ABX9TyMNgAXDvmm/fylBbZ6wvIfJ",
      "include_colab_link": true
    },
    "kernelspec": {
      "name": "python3",
      "display_name": "Python 3"
    },
    "language_info": {
      "name": "python"
    }
  },
  "cells": [
    {
      "cell_type": "markdown",
      "metadata": {
        "id": "view-in-github",
        "colab_type": "text"
      },
      "source": [
        "<a href=\"https://colab.research.google.com/github/pammyyAnn/Advance-Data-Visualization-Lab-7.1-7.2/blob/main/Advance_Data_Visualization_Lab_7_1_7_2.ipynb\" target=\"_parent\"><img src=\"https://colab.research.google.com/assets/colab-badge.svg\" alt=\"Open In Colab\"/></a>"
      ]
    },
    {
      "cell_type": "code",
      "execution_count": 1,
      "metadata": {
        "colab": {
          "base_uri": "https://localhost:8080/"
        },
        "id": "8eJXFlaBmU1n",
        "outputId": "8c7de03a-9092-4ccc-f855-2526bd9a276e"
      },
      "outputs": [
        {
          "output_type": "stream",
          "name": "stdout",
          "text": [
            "What is the temperature outside?:28\n",
            "the temperatureis good today\n",
            "can go outside\n"
          ]
        }
      ],
      "source": [
        "temp = int(input(\"What is the temperature outside?:\"))\n",
        "\n",
        "if temp >=0 and temp <=30:\n",
        "  print(\"the temperatureis good today\")\n",
        "  print(\"can go outside\")\n",
        "  "
      ]
    },
    {
      "cell_type": "code",
      "source": [
        "temp = int(input(\"What is the temperature outside?:\"))\n",
        "\n",
        "if temp >= 0 and temp<=30:\n",
        "  print(\"the temperature is good today\")\n",
        "  print(\"can go outside!\")\n",
        "elif temp < 0 or temp > 30:\n",
        "  print(\"the temperatureis bad today!\")\n",
        "  print(\"you must stay inside!\")"
      ],
      "metadata": {
        "colab": {
          "base_uri": "https://localhost:8080/"
        },
        "id": "CAVSQOdAnNu-",
        "outputId": "62adcc6e-9064-4040-e493-682794108933"
      },
      "execution_count": 2,
      "outputs": [
        {
          "output_type": "stream",
          "name": "stdout",
          "text": [
            "What is the temperature outside?:-12\n",
            "the temperatureis bad today!\n",
            "you must stay inside!\n"
          ]
        }
      ]
    }
  ]
}